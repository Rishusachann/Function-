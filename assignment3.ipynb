{
  "nbformat": 4,
  "nbformat_minor": 0,
  "metadata": {
    "colab": {
      "provenance": []
    },
    "kernelspec": {
      "name": "python3",
      "display_name": "Python 3"
    },
    "language_info": {
      "name": "python"
    }
  },
  "cells": [
    {
      "cell_type": "markdown",
      "source": [
        "                              **THEORY QUESTIONS**\n",
        "\n",
        "\n",
        "1. What is the difference between a function and a method in Python?\n",
        "\n",
        " ANS-A function is a block of reusable code that operates independently and is called by its name.\n",
        "\n",
        "  A method is a function that belongs to an object and is called using the syntax object.method().\n",
        "\n",
        "  Example:\n",
        "\n",
        " def add(a, b):  # Function\n",
        "    \n",
        "    return a + b\n",
        "\n",
        "  \"hello\".upper()  # Method\n",
        "\n",
        "2. Explain the concept of function arguments and parameters in Python.\n",
        "\n",
        " ANS-Parameters are the variables listed inside the function definition.\n",
        "\n",
        " Arguments are the actual values passed to the function when it’s called.\n",
        "\n",
        " Example:\n",
        "\n",
        " def greet(name):  # 'name' is a parameter\n",
        "    \n",
        "    print(\"Hi\", name)\n",
        "\n",
        " greet(\"John\")  # \"John\" is an argument\n",
        "\n",
        "\n",
        "3. What are the different ways to define and call a function in Python?\n",
        "\n",
        " ANS-Define using def keyword\n",
        "\n",
        " -Call by function name followed by parentheses\n",
        "\n",
        " -Use lambda functions for small anonymous functions\n",
        "\n",
        " Example:\n",
        "\n",
        " def hello():\n",
        "    \n",
        "    print(\"Hello\")\n",
        "\n",
        " hello()  # Function call\n",
        "\n",
        " square = lambda x: x*x  # Lambda function\n",
        "\n",
        " print(square(3))\n",
        "\n",
        "\n",
        "4. What is the purpose of the return statement in a Python function?\n",
        "\n",
        " ANS-The return statement is used to exit a function and send a result back to the caller.\n",
        "\n",
        " Example:\n",
        "\n",
        " def add(a, b):\n",
        "    \n",
        "    return a + b\n",
        "\n",
        " result = add(5, 3)\n",
        "\n",
        " print(result)  # 8\n",
        "\n",
        "\n",
        "5. What are iterators in Python and how do they differ from iterables?\n",
        "\n",
        " ANS-Iterable: An object like a list or string that can return its elements one by one.\n",
        "\n",
        " Iterator: An object with a __next__() method to get next item.\n",
        "\n",
        " Example:\n",
        "\n",
        " my_list = [1, 2, 3]  # Iterable\n",
        "\n",
        " it = iter(my_list)   # Iterator\n",
        "\n",
        " print(next(it))  # 1\n",
        "\n",
        "\n",
        "6. Explain the concept of generators in Python and how they are defined.\n",
        "\n",
        " ANS-A generator is a function that yields values one by one using the yield keyword, instead of returning all at once.\n",
        "\n",
        " Example:\n",
        "\n",
        " def count_up_to(n):\n",
        "    \n",
        "    count = 1\n",
        "    \n",
        "    while count <= n:\n",
        "        \n",
        "        yield count\n",
        "        \n",
        "        count += 1\n",
        "\n",
        "\n",
        "7. What are the advantages of using generators over regular functions?\n",
        "\n",
        " ANS-Memory efficient\n",
        "\n",
        " -Lazy evaluation (one item at a time)\n",
        "\n",
        " -Can handle infinite sequences\n",
        "\n",
        " -Code is simpler and cleaner with yield\n",
        "\n",
        "8. What is a lambda function in Python and when is it typically used?\n",
        "\n",
        " ANS-A lambda function is an anonymous, one-line function using the lambda keyword.\n",
        "\n",
        " Typically used when a small function is needed for a short time.\n",
        "\n",
        " Example:\n",
        "\n",
        " square = lambda x: x*x\n",
        "\n",
        " print(square(5))\n",
        "\n",
        "9. Explain the purpose and usage of the map() function in Python.\n",
        "\n",
        " ANS-The map() function applies a given function to all items in an iterable.\n",
        "\n",
        " Example:\n",
        "\n",
        " nums = [1, 2, 3]\n",
        "\n",
        " squared = list(map(lambda x: x*x, nums))\n",
        "\n",
        " print(squared)  # [1, 4, 9]\n",
        "\n",
        "\n",
        "10. What is the difference between map(), reduce(), and filter() functions in Python?\n",
        "\n",
        " ANS-map() → Applies a function to all items in an iterable.\n",
        "\n",
        " -filter() → Selects items where the function returns True.\n",
        "\n",
        " -reduce() → Applies a function cumulatively, reducing to a single value.\n",
        "\n",
        "\n",
        "\n",
        "                               **PRACTICAL QUESTIONS**\n"
      ],
      "metadata": {
        "id": "THH1Np2abNOx"
      }
    },
    {
      "cell_type": "code",
      "source": [
        "#1) Write a Python function that takes a list of numbers as input and returns the sum of all even numbers in the list.\n",
        "def sum_even_numbers(numbers):\n",
        "    return sum(num for num in numbers if num % 2 == 0)\n",
        "\n",
        "print(sum_even_numbers([1, 2, 3, 4, 5, 6]))\n"
      ],
      "metadata": {
        "colab": {
          "base_uri": "https://localhost:8080/"
        },
        "id": "YzfirLuXelBo",
        "outputId": "d6d8e79b-198e-42be-cea4-69a16f21ccf9"
      },
      "execution_count": 1,
      "outputs": [
        {
          "output_type": "stream",
          "name": "stdout",
          "text": [
            "12\n"
          ]
        }
      ]
    },
    {
      "cell_type": "code",
      "source": [
        "#2) Create a Python function that accepts a string and returns the reverse of that string.\n",
        "def reverse_string(s):\n",
        "    return s[::-1]\n",
        "\n",
        "print(reverse_string(\"hello\"))\n"
      ],
      "metadata": {
        "colab": {
          "base_uri": "https://localhost:8080/"
        },
        "id": "77pnJziRfgkx",
        "outputId": "6812e014-d64f-41e1-cdd2-54b04c8a997c"
      },
      "execution_count": 2,
      "outputs": [
        {
          "output_type": "stream",
          "name": "stdout",
          "text": [
            "olleh\n"
          ]
        }
      ]
    },
    {
      "cell_type": "code",
      "source": [
        "#3) Implement a Python function that takes a list of integers and returns a new list containing the squares of each number.\n",
        "def square_numbers(numbers):\n",
        "    return [num**2 for num in numbers]\n",
        "\n",
        "print(square_numbers([1, 2, 3, 4]))\n"
      ],
      "metadata": {
        "colab": {
          "base_uri": "https://localhost:8080/"
        },
        "id": "0_DAJQeufoNd",
        "outputId": "5780bb53-4dfc-44e0-ac32-36aad2dd00f1"
      },
      "execution_count": 3,
      "outputs": [
        {
          "output_type": "stream",
          "name": "stdout",
          "text": [
            "[1, 4, 9, 16]\n"
          ]
        }
      ]
    },
    {
      "cell_type": "code",
      "source": [
        "#4) Write a Python function that checks if a given number is prime or not from 1 to 200.\n",
        "def is_prime(num):\n",
        "    if num < 2:\n",
        "        return False\n",
        "    for i in range(2, int(num**0.5)+1):\n",
        "        if num % i == 0:\n",
        "            return False\n",
        "    return True\n",
        "\n",
        "for i in range(1, 201):\n",
        "    if is_prime(i):\n",
        "        print(i, end=\" \")\n"
      ],
      "metadata": {
        "colab": {
          "base_uri": "https://localhost:8080/"
        },
        "id": "iEH7OnfNfuRB",
        "outputId": "c33a4247-9c84-49bc-fa15-336479cb7cb8"
      },
      "execution_count": 4,
      "outputs": [
        {
          "output_type": "stream",
          "name": "stdout",
          "text": [
            "2 3 5 7 11 13 17 19 23 29 31 37 41 43 47 53 59 61 67 71 73 79 83 89 97 101 103 107 109 113 127 131 137 139 149 151 157 163 167 173 179 181 191 193 197 199 "
          ]
        }
      ]
    },
    {
      "cell_type": "code",
      "source": [
        "#5) Create an iterator class in Python that generates the Fibonacci sequence up to a specified number of terms.\n",
        "class Fibonacci:\n",
        "    def __init__(self, terms):\n",
        "        self.terms = terms\n",
        "        self.a, self.b, self.count = 0, 1, 0\n",
        "\n",
        "    def __iter__(self):\n",
        "        return self\n",
        "\n",
        "    def __next__(self):\n",
        "        if self.count >= self.terms:\n",
        "            raise StopIteration\n",
        "        value = self.a\n",
        "        self.a, self.b = self.b, self.a + self.b\n",
        "        self.count += 1\n",
        "        return value\n",
        "\n",
        "for num in Fibonacci(10):\n",
        "    print(num, end=\" \")\n"
      ],
      "metadata": {
        "colab": {
          "base_uri": "https://localhost:8080/"
        },
        "id": "NAGw62MDf0xv",
        "outputId": "6364da8c-8c4c-4c58-cb5c-d9c0eff5ba97"
      },
      "execution_count": 5,
      "outputs": [
        {
          "output_type": "stream",
          "name": "stdout",
          "text": [
            "0 1 1 2 3 5 8 13 21 34 "
          ]
        }
      ]
    },
    {
      "cell_type": "code",
      "source": [
        "#6) Write a generator function in Python that yields the powers of 2 up to a given exponent.\n",
        "def powers_of_two(max_exp):\n",
        "    for n in range(max_exp + 1):\n",
        "        yield 2 ** n\n",
        "\n",
        "for power in powers_of_two(5):\n",
        "    print(power)\n",
        "\n"
      ],
      "metadata": {
        "colab": {
          "base_uri": "https://localhost:8080/"
        },
        "id": "vBDbwfdpf8Zn",
        "outputId": "49000231-5bd9-495d-eece-b641b4d9ace6"
      },
      "execution_count": 6,
      "outputs": [
        {
          "output_type": "stream",
          "name": "stdout",
          "text": [
            "1\n",
            "2\n",
            "4\n",
            "8\n",
            "16\n",
            "32\n"
          ]
        }
      ]
    },
    {
      "cell_type": "code",
      "source": [
        "#7) Implement a generator function that reads a file line by line and yields each line as a string.\n",
        "def read_lines(filename):\n",
        "    with open(filename, 'r') as file:\n",
        "        for line in file:\n",
        "            yield line.strip()\n"
      ],
      "metadata": {
        "id": "jpKXeb-TgHv5"
      },
      "execution_count": 8,
      "outputs": []
    },
    {
      "cell_type": "code",
      "source": [
        "#8) Use a lambda function in Python to sort a list of tuples based on the second element of each tuple.\n",
        "data = [(1, 3), (2, 1), (3, 2)]\n",
        "sorted_data = sorted(data, key=lambda x: x[1])\n",
        "print(sorted_data)\n"
      ],
      "metadata": {
        "colab": {
          "base_uri": "https://localhost:8080/"
        },
        "id": "X6LCQ2-ngQBl",
        "outputId": "d2519713-dbf6-4319-dcd6-89d12782010a"
      },
      "execution_count": 9,
      "outputs": [
        {
          "output_type": "stream",
          "name": "stdout",
          "text": [
            "[(2, 1), (3, 2), (1, 3)]\n"
          ]
        }
      ]
    },
    {
      "cell_type": "code",
      "source": [
        "#9) Write a Python program that uses map() to convert a list of temperatures from Celsius to Fahrenheit.\n",
        "celsius = [0, 20, 37, 100]\n",
        "fahrenheit = list(map(lambda c: (c * 9/5) + 32, celsius))\n",
        "print(fahrenheit)\n",
        "\n",
        "\n"
      ],
      "metadata": {
        "colab": {
          "base_uri": "https://localhost:8080/"
        },
        "id": "HL9TdiazgYYm",
        "outputId": "b3065406-ee89-4a5a-9c58-2048c62c93db"
      },
      "execution_count": 10,
      "outputs": [
        {
          "output_type": "stream",
          "name": "stdout",
          "text": [
            "[32.0, 68.0, 98.6, 212.0]\n"
          ]
        }
      ]
    },
    {
      "cell_type": "code",
      "source": [
        "#10) Create a Python program that uses filter() to remove all the vowels from a given string.\n",
        "def remove_vowels(s):\n",
        "    vowels = \"aeiouAEIOU\"\n",
        "    return ''.join(filter(lambda c: c not in vowels, s))\n",
        "\n",
        "print(remove_vowels(\"Hello World\"))\n"
      ],
      "metadata": {
        "colab": {
          "base_uri": "https://localhost:8080/"
        },
        "id": "tdpOM62RggyF",
        "outputId": "37cbaf95-e0c3-4efa-c51a-4bed1b55ce58"
      },
      "execution_count": 11,
      "outputs": [
        {
          "output_type": "stream",
          "name": "stdout",
          "text": [
            "Hll Wrld\n"
          ]
        }
      ]
    },
    {
      "cell_type": "code",
      "source": [
        "#11) Imagine an accounting routine used in a book shop. It works on a list with sublists, which look like this:\n",
        "#Write a Python program, which returns a list with 2-tuples. Each tuple consists of the order number and the\n",
        "#product of the price per item and the quantity. The product should be increased by 10,- € if the value of the\n",
        "#order is smaller than 100,00 €.\n",
        "#Write a Python program using lambda and map.\n",
        "orders = [\n",
        "    [\"34587\", \"Learning Python\", 40.95, 1],\n",
        "    [\"98762\", \"Programming Python\", 56.80, 1],\n",
        "    [\"77226\", \"Head First Python\", 32.95, 3],\n",
        "    [\"88112\", \"Python Cookbook\", 24.99, 1]\n",
        "]\n",
        "\n",
        "result = list(map(\n",
        "    lambda order: (order[0], order[2] * order[3] + (10 if order[2] * order[3] < 100 else 0)),\n",
        "    orders\n",
        "))\n",
        "\n",
        "print(result)\n"
      ],
      "metadata": {
        "colab": {
          "base_uri": "https://localhost:8080/"
        },
        "id": "pkVPQSZ9gy11",
        "outputId": "10855bdd-45e2-43bc-c2ed-9c7adcbb2a55"
      },
      "execution_count": 12,
      "outputs": [
        {
          "output_type": "stream",
          "name": "stdout",
          "text": [
            "[('34587', 50.95), ('98762', 66.8), ('77226', 108.85000000000001), ('88112', 34.989999999999995)]\n"
          ]
        }
      ]
    }
  ]
}